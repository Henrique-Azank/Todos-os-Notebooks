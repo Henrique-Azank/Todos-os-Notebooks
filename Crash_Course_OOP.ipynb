{
 "cells": [
  {
   "cell_type": "markdown",
   "metadata": {},
   "source": [
    "# Notebook - Crash Course em **Object Oriented Programming (OOP)**\n",
    "\n",
    " - **<h3> Introdução: OOP e Programação </h3>**\n",
    " ---\n",
    " \n",
    "***Programação Orientada a Objetocs (Object Oriented Programming)*** Trata-se de um conceito extremamente importante para desenvolvedores de software. Em python é um conceiro sumário para o desenvolvimento de aplicações. No escopo de OOP, entram conceitos como **Atributos, Objectos, Métodos (e seus tipos), encapsulação, abstração, polimorfismos e classes abstratas**. \n",
    "\n",
    "Um exemplo de porque OOP é tão importante, vamos iniciar com a implementação de um sistema de estoque de uma pequena Fábrica/loja:"
   ]
  },
  {
   "cell_type": "code",
   "execution_count": 1,
   "metadata": {},
   "outputs": [
    {
     "name": "stdout",
     "output_type": "stream",
     "text": [
      "<class 'str'>\n"
     ]
    }
   ],
   "source": [
    "# Especificando algumas características de um Produto: \n",
    "\n",
    "Item_1 = 'Telefone_Novo'                               # Uma String (str)\n",
    "Item_1_Custo = 1000                                    # Um número Inteiro (int)\n",
    "Item_1_Quantidade = 250                                # Um número Inteiro (int)\n",
    "Item_1_Custo_Total = Item_1_Custo * Item_1_Custo       # Um número Inteiro (int)\n",
    "\n",
    "print(type(Item_1))"
   ]
  },
  {
   "cell_type": "markdown",
   "metadata": {},
   "source": [
    "Como pode-se observar no output de type(Item_1), estamos lidando com uma **instância da classe 'str'**. Criar uma instância de uma classe é o mesmo que dizer \"criar um objeto de classe X\", ou seja, ao escrevermos Item_1 = 'Telefone_Novo' estamos **criando um objeto da classe \"str\" ou fazendo uma instância da classe \"str\".** \n"
   ]
  },
  {
   "cell_type": "code",
   "execution_count": 5,
   "metadata": {},
   "outputs": [
    {
     "name": "stdout",
     "output_type": "stream",
     "text": [
      "True : São a mesma coisa\n"
     ]
    }
   ],
   "source": [
    "# Instância da Classe String: \n",
    "Str_1 = str('Nome')\n",
    "\n",
    "# Objeto de Classe String: \n",
    "Str_2 = 'Nome'\n",
    "\n",
    "# São a Mesa coisa ? \n",
    "print(Str_1 == Str_2, \": São a mesma coisa\")\n"
   ]
  },
  {
   "cell_type": "markdown",
   "metadata": {},
   "source": [
    "\n",
    " E se gostaríamos de criar uma **classe prórpia**, de forma a facilitar nossa futura utilização das informações ou ainda facilitar a escrita de nossos códigos ? Esse novo tipo de dado poderia armazenar as informações dos nossos produtos, sendo os atributos suas características:  "
   ]
  },
  {
   "cell_type": "code",
   "execution_count": 6,
   "metadata": {},
   "outputs": [],
   "source": [
    "# Criando uma classe:: \n",
    "class Item:                 #Item é o nome da Classe\n",
    "    # .... \n",
    "    pass                    # Fim da Definição\n",
    "\n",
    "# Criando instâncias da nossa nova classe\n",
    "item1 = Item()\n",
    "\n",
    "# Construindo atributos: Todas as informações\n",
    "# serão armazenadas em um ÚNICO objeto. \n",
    "item1.nome = 'Telefone Novo'\n",
    "item1.custo = 1000\n",
    "item1.quantidade = 250\n"
   ]
  },
  {
   "cell_type": "markdown",
   "metadata": {},
   "source": [
    "Uma vantagem da programação voltada a objetos é a possibilidade de **criar métodos**. Métodos são funções que **pertencem a um objeto de determinada classe**. Essas funções são geralmente importantes no uso cotidiano do objeto. Um exemplo prático seria o método **.append()** da classe de objetos **list** de python: Listyas são utilizados constantemente em Python e constituem em um conjunto de informações/outros objetos. A prática nos diz que constantemente queremos adicionar mais objetos as listas já criadas, sem precisar construir a lista do zero novamente. O método *append* faz justamente isso.  "
   ]
  },
  {
   "cell_type": "code",
   "execution_count": 7,
   "metadata": {},
   "outputs": [
    {
     "name": "stdout",
     "output_type": "stream",
     "text": [
      "['Henrique', 'Sarah', 'Ana', 'Fanny', 'Andrez']\n"
     ]
    }
   ],
   "source": [
    "# Lista de Alunos de um Curso\n",
    "Lista_Alunos = ['Henrique','Sarah','Ana','Fanny']\n",
    "\n",
    "# Novo Aluno entra na Classe: 'Andrez' \n",
    "Lista_Alunos.append('Andrez')\n",
    "print(Lista_Alunos)\n"
   ]
  },
  {
   "cell_type": "markdown",
   "metadata": {},
   "source": [
    "Para criar métodos, simplesmente **criamos funções no interior das definições de nossa classe personalizada**. O seguinte código ilustra como criar um método que calcula o custo do inventório total de um item:  "
   ]
  },
  {
   "cell_type": "code",
   "execution_count": 11,
   "metadata": {},
   "outputs": [
    {
     "name": "stdout",
     "output_type": "stream",
     "text": [
      "O custo total do Inventário é:\n",
      "250000\n"
     ]
    }
   ],
   "source": [
    "# Criando uma classe:: \n",
    "class Item:                                # Item é o nome da Classe\n",
    "    def Custo_Total(self):                 # Quando criamos um método, o primeiro argumento é o Objeto em si (denominado self)\n",
    "        \n",
    "        return self.custo * self.quantidade\n",
    "\n",
    "        pass                               # Fim da Definição\n",
    "\n",
    "# Criando instâncias da nossa nova classe\n",
    "item1 = Item()\n",
    "item1.nome = 'Telefone Novo'\n",
    "item1.custo = 1000\n",
    "item1.quantidade = 250\n",
    "\n",
    "print('O custo total do Inventário é:')\n",
    "print(item1.Custo_Total())"
   ]
  },
  {
   "cell_type": "markdown",
   "metadata": {},
   "source": [
    "***Nota:*** Alguns métodos são especiais em Python, e são comumente denominados de ***\"Magic Methods\"***. Esses métodos são identificados por serem dados por: \"__ Método __\". Eles tem bastante utilidades quando definindo e usando classes personalizadas."
   ]
  },
  {
   "cell_type": "markdown",
   "metadata": {},
   "source": [
    "Vamos agora imaginar que para criarmos um objeto da classe \"item\" DEVEMOS fornecer as informações do item. Em outras palavras, quando estamos construindo o objeto \"item1\", ele só sera construído se especificarmos seus atributos (nome, custo e quantidade). Essa funcionalidade é obtida quanda modficamos nossa definição de **class item**, como ilustra o código abaixo: "
   ]
  },
  {
   "cell_type": "code",
   "execution_count": 14,
   "metadata": {},
   "outputs": [],
   "source": [
    "# Nessa Definição, não precisamos especificar nenhuma\n",
    "# informação quando criando um objeto da classe \"Item\":\n",
    "\n",
    "class Item:                                      # Item é o nome da Classe\n",
    "    def Custo_Total(self):     \n",
    "        return self.custo * self.quantidade\n",
    "        pass                                     # Fim da Definição\n",
    "\n",
    "# Não irá gerar um Erro\n",
    "item1 = Item()                                   \n"
   ]
  },
  {
   "cell_type": "code",
   "execution_count": 16,
   "metadata": {},
   "outputs": [
    {
     "name": "stdout",
     "output_type": "stream",
     "text": [
      "O Objeto de Classe Item foi Criado\n"
     ]
    }
   ],
   "source": [
    "# Nessa Definição, não precisamos especificar nenhuma\n",
    "# informação quando criando um objeto da classe \"Item\", \n",
    "# mas uma mensagem será impressa quando criamos o objeto:\n",
    "\n",
    "class Item:                                      # Item é o nome da Classe\n",
    "    def __init__(self):\n",
    "        print(\"O Objeto de Classe Item foi Criado\")\n",
    "    def Custo_Total(self):     \n",
    "        return self.custo * self.quantidade\n",
    "        pass                                     # Fim da Definição\n",
    "\n",
    "# Não irá gerar um Erro\n",
    "# e será gerada uma mensagem\n",
    "item1 = Item()                                   \n"
   ]
  },
  {
   "cell_type": "code",
   "execution_count": 19,
   "metadata": {},
   "outputs": [
    {
     "name": "stdout",
     "output_type": "stream",
     "text": [
      "O Objeto de Classe Item Laptop foi Criado\n"
     ]
    },
    {
     "ename": "TypeError",
     "evalue": "Item.__init__() missing 1 required positional argument: 'nome'",
     "output_type": "error",
     "traceback": [
      "\u001b[1;31m---------------------------------------------------------------------------\u001b[0m",
      "\u001b[1;31mTypeError\u001b[0m                                 Traceback (most recent call last)",
      "\u001b[1;32me:\\PYTHON\\Estudos\\Project_Oriented_Programming\\Crash_Course_OOP.ipynb Cell 15'\u001b[0m in \u001b[0;36m<cell line: 18>\u001b[1;34m()\u001b[0m\n\u001b[0;32m     <a href='vscode-notebook-cell:/e%3A/PYTHON/Estudos/Project_Oriented_Programming/Crash_Course_OOP.ipynb#ch0000015?line=13'>14</a>\u001b[0m item1 \u001b[39m=\u001b[39m Item(\u001b[39m'\u001b[39m\u001b[39mLaptop\u001b[39m\u001b[39m'\u001b[39m)\n\u001b[0;32m     <a href='vscode-notebook-cell:/e%3A/PYTHON/Estudos/Project_Oriented_Programming/Crash_Course_OOP.ipynb#ch0000015?line=15'>16</a>\u001b[0m \u001b[39m# Irá gerar um Erro\u001b[39;00m\n\u001b[0;32m     <a href='vscode-notebook-cell:/e%3A/PYTHON/Estudos/Project_Oriented_Programming/Crash_Course_OOP.ipynb#ch0000015?line=16'>17</a>\u001b[0m \u001b[39m# e a mensagem não será gerada \u001b[39;00m\n\u001b[1;32m---> <a href='vscode-notebook-cell:/e%3A/PYTHON/Estudos/Project_Oriented_Programming/Crash_Course_OOP.ipynb#ch0000015?line=17'>18</a>\u001b[0m item2 \u001b[39m=\u001b[39m Item()\n",
      "\u001b[1;31mTypeError\u001b[0m: Item.__init__() missing 1 required positional argument: 'nome'"
     ]
    }
   ],
   "source": [
    "# Nessa Definição, PRECISAMOS especificar a\n",
    "# informação NOME quando criando um objeto da classe \"Item\", \n",
    "# sendo que tentar construir um objeto sem especificar o nome\n",
    "# gerará uma mensagem de erro:\n",
    "\n",
    "class Item:                                                    # Item é o nome da Classe\n",
    "    def __init__(self, nome):\n",
    "        print(f\"O Objeto de Classe Item {nome} foi Criado\")\n",
    "    def Custo_Total(self):     \n",
    "        return self.custo * self.quantidade\n",
    "        pass                                                   # Fim da Definição\n",
    "\n",
    "# Não irá gerar um Erro]\n",
    "# e será gerada uma mensagem\n",
    "item1 = Item('Laptop')\n",
    "\n",
    "# Irá gerar um Erro\n",
    "# e a mensagem não será gerada \n",
    "item2 = Item()                                   \n"
   ]
  },
  {
   "cell_type": "code",
   "execution_count": 23,
   "metadata": {},
   "outputs": [
    {
     "name": "stdout",
     "output_type": "stream",
     "text": [
      "O Objeto de Classe Item Laptop foi Criado\n",
      "O atributo \"Nome\" é:  Laptop\n"
     ]
    }
   ],
   "source": [
    "# Nessa Definição, PRECISAMOS especificar a\n",
    "# informação NOME quando criando um objeto da classe \"Item\", que\n",
    "# será automaticamente designado ao atributo \"nome\",\n",
    "# sendo que tentar construir um objeto sem especificar o nome\n",
    "# gerará uma mensagem de erro:\n",
    "\n",
    "\n",
    "class Item:                                                    # Item é o nome da Classe\n",
    "    def __init__(self, nome):\n",
    "        self.nome = nome \n",
    "        print(f\"O Objeto de Classe Item {nome} foi Criado\")\n",
    "    def Custo_Total(self):     \n",
    "        return self.custo * self.quantidade\n",
    "        pass                                                   # Fim da Definição\n",
    "\n",
    "# Não irá gerar um Erro]\n",
    "# e será gerada uma mensagem\n",
    "item1 = Item('Laptop')\n",
    "\n",
    "# O atributo \"Nome É dado Automaticamente\"\n",
    "print('O atributo \"Nome\" é: ', item1.nome)              "
   ]
  },
  {
   "cell_type": "markdown",
   "metadata": {},
   "source": [
    "Levando em consideração todo o contexto anterior, podemos definir uma **versão final para nossa Classe \"Item\":** Nessa definição, especificamos o tipo de classe dos atributos da nossa classe e utilizamos *assert* para verificarmos que nenhum valor \"estranho\" é dado para o custo e a quantidade (ambas não podem ser menores ou iguais a zero):"
   ]
  },
  {
   "cell_type": "code",
   "execution_count": 33,
   "metadata": {},
   "outputs": [
    {
     "name": "stdout",
     "output_type": "stream",
     "text": [
      "O Objeto de Classe Item Laptop foi Criado, \n",
      "de Custo: 1000 e Quantidade em estoque: 50\n",
      "\n",
      "O custo total do inventário é de:  50000\n"
     ]
    }
   ],
   "source": [
    "\n",
    "# Definição final da nosssa Classe \"Item\"\n",
    "class Item:                                                               # Item é o nome da Classe\n",
    "\n",
    "    def __init__(self, nome: str ,custo: float ,quantidade: float):       # Especificando as entradas e suas classes\n",
    "\n",
    "        assert custo >= 0, \"Custo deve ser maior que 0\"                   # Custo e Quantidade não fazem sentido serem menores\n",
    "        assert quantidade >= 0, \"Quantidade deve ser maior que 0\"         # ou iguais a zero. \n",
    "\n",
    "        self.nome = nome \n",
    "        self.custo = custo\n",
    "        self.quantidade = quantidade \n",
    "        print(f\"O Objeto de Classe Item {nome} foi Criado, \\nde Custo: {custo} e Quantidade em estoque: {quantidade}\")\n",
    "        \n",
    "    def Custo_Total(self):     \n",
    "        return self.custo * self.quantidade\n",
    "        pass                                                              # Fim da Definição\n",
    "\n",
    "\n",
    "# Definindo o Item Laptop:\n",
    "Item_Laptop = Item('Laptop', 1000,50)\n",
    "\n",
    "# Usando Métodos para calcular o custo do inventário: \n",
    "print(\"\\nO custo total do inventário é de: \", Item_Laptop.Custo_Total())\n",
    "       "
   ]
  },
  {
   "cell_type": "markdown",
   "metadata": {},
   "source": [
    "Pode-se observar que definir classes de objetos é uma ferramenta crucial pata facilitar a manipulação de dados em Python. Classes personalizadas também tornam os códigos mais enxutos, uma vez que operações repetitivas podem ser facilmente automatizadas por meio de métodos. \n",
    "\n",
    "Devemos intretando fazer uma distinção nos atributos. Os atributos construídos/definidos durante a iniciação do Objeto (**dentro de \"def __ init __**) são chamados de **atributos de instância**. Atributos que são definidos FORA dessa chamada são os **atributos de classe** e são compartilhados por todos os objetos de uma mesma classe:  \n",
    "\n",
    "NOTA: Retirei a Mensagem de criação do Objeto, creio que já entedemos o ponto. "
   ]
  },
  {
   "cell_type": "code",
   "execution_count": 38,
   "metadata": {},
   "outputs": [
    {
     "name": "stdout",
     "output_type": "stream",
     "text": [
      "\n",
      " Nome da Minha Fábrica\n"
     ]
    }
   ],
   "source": [
    "\n",
    "class Item:                                                               # Item é o nome da Classe\n",
    "\n",
    "    Fabricante = 'Nome da Minha Fábrica'                                  # Atributo de Classe (Fabricante)\n",
    "\n",
    "    def __init__(self, nome: str ,custo: float ,quantidade: float):       # Especificando as entradas e suas classes\n",
    "\n",
    "        assert custo >= 0, \"Custo deve ser maior que 0\"                   # Custo e Quantidade não fazem sentido serem menores\n",
    "        assert quantidade >= 0, \"Quantidade deve ser maior que 0\"         # ou iguais a zero. \n",
    "\n",
    "        self.nome = nome \n",
    "        self.custo = custo\n",
    "        self.quantidade = quantidade \n",
    "                \n",
    "    def Custo_Total(self):     \n",
    "        return self.custo * self.quantidade\n",
    "        pass                                                              # Fim da Definição\n",
    "\n",
    "# Esoecificando o Item e Checando o Atributo de Classe\n",
    "Item_Laptop = Item(\"Laptop\",1000,20)\n",
    "print('\\n',Item_Laptop.Fabricante)\n"
   ]
  },
  {
   "cell_type": "markdown",
   "metadata": {},
   "source": [
    "Um importante **Magic Method** de Python é o _dict_, que permite observar todos os atributos de instância de um objeto e todos os atributos de uma classe:     "
   ]
  },
  {
   "cell_type": "code",
   "execution_count": 39,
   "metadata": {},
   "outputs": [
    {
     "name": "stdout",
     "output_type": "stream",
     "text": [
      "{'nome': 'Laptop', 'custo': 1000, 'quantidade': 20}\n",
      "{'__module__': '__main__', 'Fabricante': 'Nome da Minha Fábrica', '__init__': <function Item.__init__ at 0x00000268D36C29E0>, 'Custo_Total': <function Item.Custo_Total at 0x00000268D36C2A70>, '__dict__': <attribute '__dict__' of 'Item' objects>, '__weakref__': <attribute '__weakref__' of 'Item' objects>, '__doc__': None}\n"
     ]
    }
   ],
   "source": [
    "Item_Laptop = Item(\"Laptop\",1000,20)\n",
    "print(Item_Laptop.__dict__) \n",
    "print(Item.__dict__)               # Mostra todos os \n"
   ]
  },
  {
   "cell_type": "code",
   "execution_count": 40,
   "metadata": {},
   "outputs": [
    {
     "name": "stdout",
     "output_type": "stream",
     "text": [
      "Outra Fábrica\n",
      "Nome da Minha Fábrica\n"
     ]
    }
   ],
   "source": [
    "# Podemos alterar o atributo de classe  para uma Instância \n",
    "# (Sem alterar a classe como um todo) da seguinte forma: \n",
    "\n",
    "Item_Laptop.Fabricante = \"Outra Fábrica\"\n",
    "print(Item_Laptop.Fabricante)\n",
    "print(Item.Fabricante)\n",
    "\n",
    "# O fabricante \"padrão\" continua o mesmo, mas o fabricante \n",
    "# do objeto \"Item_Laptop\" é mudado. \n"
   ]
  }
 ],
 "metadata": {
  "interpreter": {
   "hash": "6dd55c5a9f3365ac4c1d3fc1f114826925022fa86b65cb23a038177aa32d86b0"
  },
  "kernelspec": {
   "display_name": "Python 3.10.3 ('Programming_Env': venv)",
   "language": "python",
   "name": "python3"
  },
  "language_info": {
   "codemirror_mode": {
    "name": "ipython",
    "version": 3
   },
   "file_extension": ".py",
   "mimetype": "text/x-python",
   "name": "python",
   "nbconvert_exporter": "python",
   "pygments_lexer": "ipython3",
   "version": "3.10.3"
  },
  "orig_nbformat": 4
 },
 "nbformat": 4,
 "nbformat_minor": 2
}
